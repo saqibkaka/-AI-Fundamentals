{
 "cells": [
  {
   "cell_type": "markdown",
   "id": "ca40086f-4755-4c85-8f33-b5ec545d60d4",
   "metadata": {},
   "source": [
    "## String and List Methods"
   ]
  },
  {
   "cell_type": "markdown",
   "id": "9ebf45de-d413-41dc-a258-42992201f992",
   "metadata": {},
   "source": [
    "1.\tWrite a program that inputs a line of text. Output the text in uppercase letters and in lowercase letters using built-in functions."
   ]
  },
  {
   "cell_type": "code",
   "execution_count": 1,
   "id": "1ac1aa74-daf4-494e-ae81-279e1eff2b6b",
   "metadata": {},
   "outputs": [
    {
     "name": "stdin",
     "output_type": "stream",
     "text": [
      "Enter a line of text:  i am a programmer\n"
     ]
    },
    {
     "name": "stdout",
     "output_type": "stream",
     "text": [
      "Text in uppercase: I AM A PROGRAMMER\n",
      "Text in lowercase: i am a programmer\n"
     ]
    }
   ],
   "source": [
    "text = input(\"Enter a line of text: \")\n",
    "uppercase_text = text.upper()\n",
    "lowercase_text = text.lower()\n",
    "print(\"Text in uppercase:\", uppercase_text)\n",
    "print(\"Text in lowercase:\", lowercase_text)"
   ]
  },
  {
   "cell_type": "markdown",
   "id": "79227e69-9cac-4219-a903-ae426601d8e4",
   "metadata": {},
   "source": [
    "2.\tA simple way to estimate the number of words in a string is to count the number of spaces in the string. Write a program that asks the user for a string and returns an estimate of how many words are in the string."
   ]
  },
  {
   "cell_type": "code",
   "execution_count": 2,
   "id": "cf049d32-b7f2-47f7-8751-693d247f14e6",
   "metadata": {},
   "outputs": [
    {
     "name": "stdin",
     "output_type": "stream",
     "text": [
      "Enter a string:  How are You\n"
     ]
    },
    {
     "name": "stdout",
     "output_type": "stream",
     "text": [
      "Estimated number of words: 3\n"
     ]
    }
   ],
   "source": [
    "text = input(\"Enter a string: \")\n",
    "space_count = text.count(' ')\n",
    "word_estimate = space_count + 1\n",
    "print(\"Estimated number of words:\", word_estimate)"
   ]
  },
  {
   "cell_type": "markdown",
   "id": "27054483-940c-48b8-b30f-51da4e12314d",
   "metadata": {},
   "source": [
    "3.\tWrite a program that asks the user to enter a string s and then converts s to lowercase, removes all the periods and commas from s, and prints the resulting string.(Hint: use the split method)"
   ]
  },
  {
   "cell_type": "code",
   "execution_count": 3,
   "id": "c7dba79b-cb22-4a9b-9c10-c7db67e91b0c",
   "metadata": {},
   "outputs": [
    {
     "name": "stdin",
     "output_type": "stream",
     "text": [
      "Enter a string:  Hey What's Up\n"
     ]
    },
    {
     "name": "stdout",
     "output_type": "stream",
     "text": [
      "hey what's up\n"
     ]
    }
   ],
   "source": [
    "s = input(\"Enter a string: \")\n",
    "s = s.lower()\n",
    "s = s.replace('.', '').replace(',', '')\n",
    "print(s)"
   ]
  },
  {
   "cell_type": "markdown",
   "id": "c909a87b-ec82-4b95-9bf8-072c4e72c5d8",
   "metadata": {},
   "source": [
    "4.\tA variable ids refers to the list [4353, 2314, 2956, 3382, 9362, 3900]. Using list methods, do the following:\r\n",
    "a.\tRemove 3382 from the list.\r\n",
    "b.\tGet the index of 9362.\r\n",
    "c.\tInsert 4499 in the list after 9362.\r\n",
    "d.\tExtend the list by adding [5566, 1830] to it.\r\n",
    "e.\tReverse the list.\r\n",
    "f.\tSort the list.\r\n"
   ]
  },
  {
   "cell_type": "code",
   "execution_count": 4,
   "id": "389b554f-ca4b-4422-9e75-6cf78e930d0b",
   "metadata": {},
   "outputs": [
    {
     "name": "stdout",
     "output_type": "stream",
     "text": [
      "[1830, 2314, 2956, 3900, 4353, 4499, 5566, 9362]\n"
     ]
    }
   ],
   "source": [
    "ids = [4353, 2314, 2956, 3382, 9362, 3900]\n",
    "\n",
    "ids.remove(3382)\n",
    "\n",
    "index_of_9362 = ids.index(9362)\n",
    "\n",
    "ids.insert(index_of_9362 + 1, 4499)\n",
    "\n",
    "# d. Extend the list by adding [5566, 1830] to it\n",
    "ids.extend([5566, 1830])\n",
    "\n",
    "ids.reverse()\n",
    "\n",
    "\n",
    "ids.sort()\n",
    "\n",
    "print(ids)"
   ]
  },
  {
   "cell_type": "markdown",
   "id": "bbe14e52-2c32-4699-8506-24513cfece6b",
   "metadata": {},
   "source": [
    "5.\tWhen playing games where you have to roll two dice, it is nice to know the odds of each roll. For instance, the odds of rolling a 12 are about 3%, and the odds of rolling a 7 are about 17%. You can compute these mathematically, but if you don’t know the math, you can write a program to do it. To do this, your program should simulate rolling two dice about 10,000 times and compute and print out the percentage of rolls that come out to be 2, 3, 4, . . . , 12. Print the results in a table format."
   ]
  },
  {
   "cell_type": "code",
   "execution_count": 5,
   "id": "cb2549eb-74cc-47c9-8993-5b006990761b",
   "metadata": {},
   "outputs": [
    {
     "name": "stdout",
     "output_type": "stream",
     "text": [
      "Roll   Count      Percentage\n",
      "2      258        2.58%\n",
      "3      535        5.35%\n",
      "4      841        8.41%\n",
      "5      1102       11.02%\n",
      "6      1389       13.89%\n",
      "7      1652       16.52%\n",
      "8      1415       14.15%\n",
      "9      1147       11.47%\n",
      "10     849        8.49%\n",
      "11     541        5.41%\n",
      "12     271        2.71%\n"
     ]
    }
   ],
   "source": [
    "import random\n",
    "outcomes = {i: 0 for i in range(2, 13)}\n",
    "\n",
    "num_rolls = 10000\n",
    "for _ in range(num_rolls):\n",
    "    die1 = random.randint(1, 6)\n",
    "    die2 = random.randint(1, 6)\n",
    "    roll_sum = die1 + die2\n",
    "    outcomes[roll_sum] += 1\n",
    "\n",
    "print(f\"{'Roll':<6} {'Count':<10} {'Percentage':<10}\")\n",
    "for roll in range(2, 13):\n",
    "    count = outcomes[roll]\n",
    "    percentage = (count / num_rolls) * 100\n",
    "    print(f\"{roll:<6} {count:<10} {percentage:.2f}%\")"
   ]
  },
  {
   "cell_type": "markdown",
   "id": "6f04ddc8-01d7-440a-b3fe-77e46469db6e",
   "metadata": {},
   "source": [
    "6.\tWrite a function each for mean, median and mode that accepts a list as an argument. The mean, median, and mode functions return an integer.\r\n",
    "\r\n",
    "a.\tUsing these functions, write a program that generates a 99-element list of random numbers between 1 and 100 (inclusive) and computes its mean, median, mode.\r\n"
   ]
  },
  {
   "cell_type": "code",
   "execution_count": 6,
   "id": "9282133e-b246-41e3-abfe-53d08c00d9f5",
   "metadata": {},
   "outputs": [
    {
     "name": "stdout",
     "output_type": "stream",
     "text": [
      "Roll   Count      Percentage\n",
      "2      245        2.45%\n",
      "3      532        5.32%\n",
      "4      886        8.86%\n",
      "5      1177       11.77%\n",
      "6      1310       13.10%\n",
      "7      1693       16.93%\n",
      "8      1395       13.95%\n",
      "9      1072       10.72%\n",
      "10     840        8.40%\n",
      "11     580        5.80%\n",
      "12     270        2.70%\n"
     ]
    }
   ],
   "source": [
    "import random\n",
    "outcomes = {i: 0 for i in range(2, 13)}\n",
    "\n",
    "num_rolls = 10000\n",
    "for _ in range(num_rolls):\n",
    "    die1 = random.randint(1, 6)\n",
    "    die2 = random.randint(1, 6)\n",
    "    roll_sum = die1 + die2\n",
    "    outcomes[roll_sum] += 1\n",
    "\n",
    "print(f\"{'Roll':<6} {'Count':<10} {'Percentage':<10}\")\n",
    "for roll in range(2, 13):\n",
    "    count = outcomes[roll]\n",
    "    percentage = (count / num_rolls) * 100\n",
    "    print(f\"{roll:<6} {count:<10} {percentage:.2f}%\")"
   ]
  },
  {
   "cell_type": "markdown",
   "id": "0e432ace-184f-4893-985f-eca9d2bee22b",
   "metadata": {},
   "source": [
    "7.\tWrite a program that rotates the elements of a list so that the element at the first index moves to the second index, the element in the second index moves to the third index, etc., and the element in the last index moves to the first index."
   ]
  },
  {
   "cell_type": "code",
   "execution_count": 7,
   "id": "8736d072-eafb-4ba6-ac29-1acd74faded7",
   "metadata": {},
   "outputs": [
    {
     "name": "stdout",
     "output_type": "stream",
     "text": [
      "Original list: [1, 2, 3, 4, 5]\n",
      "Rotated list: [5, 1, 2, 3, 4]\n"
     ]
    }
   ],
   "source": [
    "def rotate_list(lst):\n",
    "    if len(lst) == 0:\n",
    "        return lst\n",
    "\n",
    "    last_element = lst.pop()\n",
    "    lst.insert(0, last_element)\n",
    "    return lst\n",
    "\n",
    "\n",
    "\n",
    "original_list = [1, 2, 3, 4, 5]\n",
    "rotated_list = rotate_list(original_list.copy())  # Use a copy to keep original_list unchanged\n",
    "\n",
    "print(\"Original list:\", original_list)\n",
    "print(\"Rotated list:\", rotated_list)"
   ]
  },
  {
   "cell_type": "markdown",
   "id": "bcc21a23-8b96-43ae-a5ba-e456cd7fc366",
   "metadata": {},
   "source": [
    "\r\n",
    "8.\tWrite a program that generates 100 random integers that are either 0 or 1. Then find the longest run of zeros, the largest number of zeros in a row. For instance, the longest run of zeros in [1,0,1,1,0,0,0,0,1,0,0] is 4.\r\n"
   ]
  },
  {
   "cell_type": "code",
   "execution_count": 8,
   "id": "8ac87c08-b3d2-4ae7-bc2e-37e5a34c9fb5",
   "metadata": {},
   "outputs": [
    {
     "name": "stdout",
     "output_type": "stream",
     "text": [
      "Random list: [0, 1, 1, 1, 0, 1, 1, 0, 0, 1, 1, 0, 0, 1, 1, 1, 0, 1, 1, 1, 0, 0, 1, 0, 0, 1, 1, 1, 0, 0, 0, 0, 1, 0, 1, 0, 1, 0, 0, 1, 1, 0, 0, 0, 0, 1, 1, 0, 0, 0, 1, 1, 1, 1, 0, 0, 1, 0, 1, 1, 1, 0, 1, 1, 1, 1, 1, 0, 1, 1, 1, 0, 1, 0, 1, 0, 0, 1, 1, 1, 0, 1, 1, 0, 0, 1, 1, 0, 1, 0, 0, 0, 1, 0, 1, 0, 1, 0, 0, 1]\n",
      "Longest run of zeros: 4\n"
     ]
    }
   ],
   "source": [
    "import random\n",
    "\n",
    "def longest_run_of_zeros(lst):\n",
    "    max_run = 0\n",
    "    current_run = 0\n",
    "    \n",
    "    for number in lst:\n",
    "        if number == 0:\n",
    "            current_run += 1\n",
    "            if current_run > max_run:\n",
    "                max_run = current_run\n",
    "        else:\n",
    "            current_run = 0\n",
    "    \n",
    "    return max_run\n",
    "\n",
    "random_list = [random.randint(0, 1) for _ in range(100)]\n",
    "\n",
    "longest_run = longest_run_of_zeros(random_list)\n",
    "\n",
    "print(\"Random list:\", random_list)\n",
    "print(\"Longest run of zeros:\", longest_run)"
   ]
  },
  {
   "cell_type": "markdown",
   "id": "22d5eafd-2a13-4ae6-896f-ee3ecf514304",
   "metadata": {},
   "source": [
    "9.\tRead the size of the matrix from the user. Populate it with data from the user. Print the original ,transpose  and  product of the matrices on the screen."
   ]
  },
  {
   "cell_type": "code",
   "execution_count": 13,
   "id": "b88a6d63-1d68-44de-ab05-ba65ed66874e",
   "metadata": {},
   "outputs": [
    {
     "name": "stdin",
     "output_type": "stream",
     "text": [
      "Enter the size of the matrix:  2\n"
     ]
    },
    {
     "name": "stdout",
     "output_type": "stream",
     "text": [
      "Enter the matrix data row by row:\n"
     ]
    },
    {
     "name": "stdin",
     "output_type": "stream",
     "text": [
      " 1 2\n",
      " 3 4\n"
     ]
    },
    {
     "name": "stdout",
     "output_type": "stream",
     "text": [
      "\n",
      "Original Matrix:\n",
      "1 2\n",
      "3 4\n",
      "\n",
      "Transpose of Matrix:\n",
      "1 3\n",
      "2 4\n",
      "\n",
      "Product of Matrix and its Transpose:\n",
      "5 11\n",
      "11 25\n"
     ]
    }
   ],
   "source": [
    "def read_matrix(size):\n",
    "    matrix = []\n",
    "    print(\"Enter the matrix data row by row:\")\n",
    "    for _ in range(size):\n",
    "        row = list(map(int, input().split()))\n",
    "        matrix.append(row)\n",
    "    return matrix\n",
    "\n",
    "def print_matrix(matrix):\n",
    "    for row in matrix:\n",
    "        print(' '.join(map(str, row)))\n",
    "\n",
    "def transpose(matrix):\n",
    "    return list(map(list, zip(*matrix)))\n",
    "\n",
    "def matrix_product(A, B):\n",
    "    size = len(A)\n",
    "    product = [[0] * size for _ in range(size)]\n",
    "    for i in range(size):\n",
    "        for j in range(size):\n",
    "            product[i][j] = sum(A[i][k] * B[k][j] for k in range(size))\n",
    "    return product\n",
    "\n",
    "size = int(input(\"Enter the size of the matrix: \"))\n",
    "\n",
    "matrix = read_matrix(size)\n",
    "\n",
    "matrix_transpose = transpose(matrix)\n",
    "\n",
    "matrix_product_result = matrix_product(matrix, matrix_transpose)\n",
    "\n",
    "print(\"\\nOriginal Matrix:\")\n",
    "print_matrix(matrix)\n",
    "\n",
    "print(\"\\nTranspose of Matrix:\")\n",
    "print_matrix(matrix_transpose)\n",
    "\n",
    "print(\"\\nProduct of Matrix and its Transpose:\")\n",
    "print_matrix(matrix_product_result)"
   ]
  },
  {
   "cell_type": "code",
   "execution_count": null,
   "id": "baaf1ddf-f600-4ee1-9fbb-15164f5dc2a9",
   "metadata": {},
   "outputs": [],
   "source": []
  }
 ],
 "metadata": {
  "kernelspec": {
   "display_name": "Python 3 (ipykernel)",
   "language": "python",
   "name": "python3"
  },
  "language_info": {
   "codemirror_mode": {
    "name": "ipython",
    "version": 3
   },
   "file_extension": ".py",
   "mimetype": "text/x-python",
   "name": "python",
   "nbconvert_exporter": "python",
   "pygments_lexer": "ipython3",
   "version": "3.11.7"
  }
 },
 "nbformat": 4,
 "nbformat_minor": 5
}
