{
 "cells": [
  {
   "cell_type": "markdown",
   "id": "c6648a4b-dcfb-4208-9f14-410b76183202",
   "metadata": {},
   "source": [
    "#### Write a program in jupyter notebook, that prints on screen the message Hello, World."
   ]
  },
  {
   "cell_type": "code",
   "execution_count": 1,
   "id": "0e88f97f-b202-4bd8-a723-545e825789c4",
   "metadata": {},
   "outputs": [
    {
     "name": "stdout",
     "output_type": "stream",
     "text": [
      "Hello, World\n"
     ]
    }
   ],
   "source": [
    "print (\"Hello, World\")"
   ]
  },
  {
   "cell_type": "markdown",
   "id": "2ba45bb1-67f5-4f52-a362-74bf2ee32111",
   "metadata": {},
   "source": [
    "#### Using the program in (1), what happens if we remove the closing quotation around the text Hello, World?"
   ]
  },
  {
   "cell_type": "code",
   "execution_count": 2,
   "id": "f0a1e13e-cd72-415b-849f-ff186de19c66",
   "metadata": {},
   "outputs": [
    {
     "ename": "SyntaxError",
     "evalue": "unterminated string literal (detected at line 1) (1585560074.py, line 1)",
     "output_type": "error",
     "traceback": [
      "\u001b[1;36m  Cell \u001b[1;32mIn[2], line 1\u001b[1;36m\u001b[0m\n\u001b[1;33m    print (\"Hello, World)\u001b[0m\n\u001b[1;37m           ^\u001b[0m\n\u001b[1;31mSyntaxError\u001b[0m\u001b[1;31m:\u001b[0m unterminated string literal (detected at line 1)\n"
     ]
    }
   ],
   "source": [
    "print (\"Hello, World)"
   ]
  },
  {
   "cell_type": "markdown",
   "id": "1e99e82a-8bd2-4fdd-ad3f-83efb1e1f7b7",
   "metadata": {},
   "source": [
    "#### \tUsing the program in (1), what happens if we remove both the quotations around the text Hello, World? How is it different from the behavior in (2)"
   ]
  },
  {
   "cell_type": "code",
   "execution_count": 3,
   "id": "fdb206ae-3712-46b1-bb24-3e82481c44d4",
   "metadata": {},
   "outputs": [
    {
     "ename": "NameError",
     "evalue": "name 'Hello' is not defined",
     "output_type": "error",
     "traceback": [
      "\u001b[1;31m---------------------------------------------------------------------------\u001b[0m",
      "\u001b[1;31mNameError\u001b[0m                                 Traceback (most recent call last)",
      "Cell \u001b[1;32mIn[3], line 1\u001b[0m\n\u001b[1;32m----> 1\u001b[0m \u001b[38;5;28mprint\u001b[39m (Hello, World)\n",
      "\u001b[1;31mNameError\u001b[0m: name 'Hello' is not defined"
     ]
    }
   ],
   "source": [
    "print (Hello, World)"
   ]
  },
  {
   "cell_type": "markdown",
   "id": "db651daf-c14f-4646-ba1a-5158c688e0d3",
   "metadata": {},
   "source": [
    "#### 4.\tWrite a program using the print() command  that produces the following output:\r\n",
    "\r\n",
    "            *\r\n",
    "          **\r\n",
    "  ***\r\n",
    "          ****\r\n",
    "          *****\r\n"
   ]
  },
  {
   "cell_type": "code",
   "execution_count": 7,
   "id": "d5732653-43c9-4f92-9c64-176eb1c3271b",
   "metadata": {},
   "outputs": [
    {
     "name": "stdout",
     "output_type": "stream",
     "text": [
      "            *\n",
      "          **\n",
      "  ***\n",
      "          ****\n",
      "          *****\n"
     ]
    }
   ],
   "source": [
    "print(\"            *\")\n",
    "print(\"          **\")\n",
    "print(\"  ***\")\n",
    "print(\"          ****\")\n",
    "print(\"          *****\")"
   ]
  }
 ],
 "metadata": {
  "kernelspec": {
   "display_name": "Python 3 (ipykernel)",
   "language": "python",
   "name": "python3"
  },
  "language_info": {
   "codemirror_mode": {
    "name": "ipython",
    "version": 3
   },
   "file_extension": ".py",
   "mimetype": "text/x-python",
   "name": "python",
   "nbconvert_exporter": "python",
   "pygments_lexer": "ipython3",
   "version": "3.11.7"
  }
 },
 "nbformat": 4,
 "nbformat_minor": 5
}
