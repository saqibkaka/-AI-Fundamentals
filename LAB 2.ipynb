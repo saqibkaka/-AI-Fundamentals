{
 "cells": [
  {
   "cell_type": "markdown",
   "id": "0052c923-ee18-4695-bfc1-70270e2e4bb3",
   "metadata": {},
   "source": [
    "### Arithmetic Operations"
   ]
  },
  {
   "cell_type": "markdown",
   "id": "49a26144-4f39-43e5-8ac7-5a61c6b2dfba",
   "metadata": {},
   "source": [
    "##### ●\tWhich of the following expressions results in SyntaxErrors? Identify the syntax SyntaxErrors and type the reason of error along with the correct code by mentioning its sequence number.\r\n",
    "\r\n",
    "n.\t6 * -----------8\r\n",
    "o.\t8 = people\r\n",
    "p.\t((((4 ** 3))))\r\n",
    "q.\t(-(-(-(-5))))\r\n",
    "r.\t4 += 7 / 2\r\n"
   ]
  },
  {
   "cell_type": "code",
   "execution_count": 2,
   "id": "1d4e2964-3787-4473-8196-71a2db5b7e92",
   "metadata": {},
   "outputs": [
    {
     "data": {
      "text/plain": [
       "-48"
      ]
     },
     "execution_count": 2,
     "metadata": {},
     "output_type": "execute_result"
    }
   ],
   "source": [
    "6 * -----------8\n",
    "\n"
   ]
  },
  {
   "cell_type": "code",
   "execution_count": 3,
   "id": "daa456de-1d34-4286-a89e-fbe7fdc0277c",
   "metadata": {},
   "outputs": [
    {
     "ename": "SyntaxError",
     "evalue": "cannot assign to literal here. Maybe you meant '==' instead of '='? (3547233364.py, line 1)",
     "output_type": "error",
     "traceback": [
      "\u001b[1;36m  Cell \u001b[1;32mIn[3], line 1\u001b[1;36m\u001b[0m\n\u001b[1;33m    8 = people\u001b[0m\n\u001b[1;37m    ^\u001b[0m\n\u001b[1;31mSyntaxError\u001b[0m\u001b[1;31m:\u001b[0m cannot assign to literal here. Maybe you meant '==' instead of '='?\n"
     ]
    }
   ],
   "source": [
    "8 = people\n"
   ]
  },
  {
   "cell_type": "code",
   "execution_count": 5,
   "id": "60b32576-7575-49ef-85bf-88e94b8d1f1f",
   "metadata": {},
   "outputs": [
    {
     "data": {
      "text/plain": [
       "64"
      ]
     },
     "execution_count": 5,
     "metadata": {},
     "output_type": "execute_result"
    }
   ],
   "source": [
    "((((4 ** 3))))\n"
   ]
  },
  {
   "cell_type": "code",
   "execution_count": 6,
   "id": "76f9ec13-0a1f-4c67-8b15-b2b4aebd40e3",
   "metadata": {},
   "outputs": [
    {
     "data": {
      "text/plain": [
       "5"
      ]
     },
     "execution_count": 6,
     "metadata": {},
     "output_type": "execute_result"
    }
   ],
   "source": [
    "(-(-(-(-5))))\n"
   ]
  },
  {
   "cell_type": "code",
   "execution_count": 10,
   "id": "bbf63400-a7fa-4824-b0e8-c8152d92725f",
   "metadata": {},
   "outputs": [
    {
     "ename": "SyntaxError",
     "evalue": "'literal' is an illegal expression for augmented assignment (2059404682.py, line 1)",
     "output_type": "error",
     "traceback": [
      "\u001b[1;36m  Cell \u001b[1;32mIn[10], line 1\u001b[1;36m\u001b[0m\n\u001b[1;33m    4 += 7 / 2\u001b[0m\n\u001b[1;37m    ^\u001b[0m\n\u001b[1;31mSyntaxError\u001b[0m\u001b[1;31m:\u001b[0m 'literal' is an illegal expression for augmented assignment\n"
     ]
    }
   ],
   "source": [
    "4 += 7 / 2"
   ]
  },
  {
   "cell_type": "markdown",
   "id": "8b87bf39-46e4-4f3a-aa08-6d618e1cb9df",
   "metadata": {},
   "source": [
    "##### ●\tUsing only the techniques you have learned so far, write a program that calculates the square and cube of the numbers from 0 to 10 and uses tabs to print the following table of values"
   ]
  },
  {
   "cell_type": "code",
   "execution_count": 16,
   "id": "5bdc7558-71a8-49c9-8c66-789d0df18bcf",
   "metadata": {},
   "outputs": [
    {
     "name": "stdout",
     "output_type": "stream",
     "text": [
      "number\tsquare\tcube\n",
      "1\t1\t1\n",
      "2\t4\t8\n",
      "3\t9\t27\n",
      "4\t16\t64\n",
      "5\t25\t125\n",
      "6\t36\t216\n",
      "7\t49\t343\n",
      "8\t64\t512\n",
      "9\t81\t729\n",
      "10\t100\t1000\n"
     ]
    }
   ],
   "source": [
    "print(\"number\\tsquare\\tcube\")\n",
    "i=0\n",
    "for i in range(10):\n",
    "    i+=1\n",
    "    print(f\"{i}\\t{i**2}\\t{i**3}\")\n"
   ]
  },
  {
   "cell_type": "markdown",
   "id": "970fd364-ebdd-4818-9700-acc878202285",
   "metadata": {},
   "source": [
    "##### ●\tWrite a program that assigns values to two variables and then swap their values"
   ]
  },
  {
   "cell_type": "code",
   "execution_count": 19,
   "id": "964d5092-db00-47c2-8574-1e153b5c202e",
   "metadata": {},
   "outputs": [
    {
     "name": "stdout",
     "output_type": "stream",
     "text": [
      "Before swap 10 20\n",
      "After swap 20 10\n"
     ]
    }
   ],
   "source": [
    "p,q=10,20\n",
    "print(\"Before swap\",p,q)\n",
    "p=int(p*q)\n",
    "q=int(p/q)\n",
    "p=int(p/q)\n",
    "print(\"After swap\",p,q)"
   ]
  },
  {
   "cell_type": "markdown",
   "id": "4bcf5132-1ee9-4e53-903b-72e85b76938e",
   "metadata": {},
   "source": [
    "### Variables and Python Input"
   ]
  },
  {
   "cell_type": "markdown",
   "id": "81e840b6-5019-4575-ba19-833b4b609089",
   "metadata": {},
   "source": [
    "##### ●\tWrite a program that inputs one five-digit number, generates its reverse and displays the reverse on screen.(Hint: Make use of the arithmetic operators modulus (%) and floor (// )"
   ]
  },
  {
   "cell_type": "code",
   "execution_count": 26,
   "id": "94b26f8d-bd5b-4339-a8b6-8f0c01a092c1",
   "metadata": {},
   "outputs": [
    {
     "name": "stdin",
     "output_type": "stream",
     "text": [
      "Enter a five-digit number:  12345\n"
     ]
    },
    {
     "name": "stdout",
     "output_type": "stream",
     "text": [
      "The reversed number is: 54321\n"
     ]
    }
   ],
   "source": [
    "def reverse_number(number):\n",
    "    d1 = number % 10\n",
    "    d2 = (number // 10) % 10\n",
    "    d3 = (number // 100) % 10\n",
    "    d4 = (number // 1000) % 10\n",
    "    d5 = (number // 10000)\n",
    "    reversed_number = d1 * 10000 + d2 * 1000 + d3 * 100 + d4 * 10 + d5\n",
    "    return reversed_number\n",
    "number = int(input(\"Enter a five-digit number: \"))\n",
    "if 10000 <= number <= 99999:\n",
    "    reversed_num = reverse_number(number)\n",
    "    print(\"The reversed number is:\", reversed_num)\n",
    "else:\n",
    "    print(\"Please enter a valid five-digit number.\")\n"
   ]
  },
  {
   "cell_type": "markdown",
   "id": "ebcbe8d0-e6f7-4906-8608-48ddc9328aec",
   "metadata": {},
   "source": [
    "##### ●\tUsing whatever we have learned so far, write a program that prints a box, an oval, an arrow and a diamond as follows:"
   ]
  },
  {
   "cell_type": "code",
   "execution_count": 1,
   "id": "dbde3bec-e530-46ab-a20f-4d971ef6d6d2",
   "metadata": {},
   "outputs": [
    {
     "name": "stdout",
     "output_type": "stream",
     "text": [
      "*********\t   ***    \t  *  \t    *\n",
      "*       *\t  *  *  \t  ***  \t   *  *\n",
      "*       *\t *     *\t ***** \t  *    *\n",
      "*       *\t *     *\t   *   \t *      *\n",
      "*       *\t *     *\t   *   \t*        *\n",
      "*       *\t *     *\t   *   \t *      *\n",
      "*       *\t *     * \t   *   \t  *    *\n",
      "*       *\t *    * \t   *   \t   *  *\n",
      "*********\t  ***   \t   *   \t    *\n",
      "\n"
     ]
    }
   ],
   "source": [
    "print('''*********\\t   ***    \\t  *  \\t    *\n",
    "*       *\\t  *  *  \\t  ***  \\t   *  *\n",
    "*       *\\t *     *\\t ***** \\t  *    *\n",
    "*       *\\t *     *\\t   *   \\t *      *\n",
    "*       *\\t *     *\\t   *   \\t*        *\n",
    "*       *\\t *     *\\t   *   \\t *      *\n",
    "*       *\\t *     * \\t   *   \\t  *    *\n",
    "*       *\\t *    * \\t   *   \\t   *  *\n",
    "*********\\t  ***   \\t   *   \\t    *\n",
    "''')"
   ]
  },
  {
   "cell_type": "markdown",
   "id": "c7bcafd6-2283-447c-b4b3-e57d11381f79",
   "metadata": {},
   "source": [
    "##### \r\n",
    "●\tWrite a program that reads three nonzero integers and determines and prints if they could be the sides of a right triangle. (Hint : use Pythagoras theorem you learned in mathematics during FSC or matric , try different combinations of the same integers )\r\n"
   ]
  },
  {
   "cell_type": "code",
   "execution_count": 3,
   "id": "0ce0c2fc-55e8-4137-93e5-230d31e94258",
   "metadata": {},
   "outputs": [
    {
     "name": "stdin",
     "output_type": "stream",
     "text": [
      "Enter three integers:  9 4 1\n"
     ]
    },
    {
     "name": "stdout",
     "output_type": "stream",
     "text": [
      "The three integers are not the sides of a right triangle\n"
     ]
    }
   ],
   "source": [
    "def is_right_triangle(sides):\n",
    "    # Check all combinations where each side is considered the hypotenuse\n",
    "    for i in range(3):\n",
    "        a = sides[i]\n",
    "        b = sides[(i+1)%3]\n",
    "        c = sides[(i+2)%3]\n",
    "        if a**2 + b**2 == c**2:\n",
    "            return True\n",
    "    return False\n",
    "\n",
    "def main():\n",
    "    input_str = input(\"Enter three integers: \")\n",
    "    \n",
    "    try:\n",
    "        sides = list(map(int, input_str.strip().split()))\n",
    "        if len(sides) != 3:\n",
    "            print(\"Please enter exactly three integers.\")\n",
    "            return\n",
    "        if 0 in sides:\n",
    "            print(\"The integers must be nonzero.\")\n",
    "            return\n",
    "        if is_right_triangle(sides):\n",
    "            print(\"The three integers are the sides of a right triangle\")\n",
    "        else:\n",
    "            print(\"The three integers are not the sides of a right triangle\")\n",
    "    except ValueError:\n",
    "        print(\"Please enter valid integers.\")\n",
    "\n",
    "if __name__ == \"__main__\":\n",
    "    main()"
   ]
  },
  {
   "cell_type": "markdown",
   "id": "97604c9f-14d7-4cc6-88d3-f2a6c963dcbb",
   "metadata": {},
   "source": [
    "##### ●\tWrite a program to prompt for a score between 0.0 and 1.0. If the score is out of range, print an error message. If the score is between 0.0 and 1.0, print a grade using the following table:"
   ]
  },
  {
   "cell_type": "code",
   "execution_count": 5,
   "id": "bc028521-c4f0-45de-b59a-fa71d286524c",
   "metadata": {},
   "outputs": [
    {
     "name": "stdin",
     "output_type": "stream",
     "text": [
      "Enter score:  0.94\n"
     ]
    },
    {
     "name": "stdout",
     "output_type": "stream",
     "text": [
      "A\n"
     ]
    }
   ],
   "source": [
    "def get_grade(score):\n",
    "    if score >= 0.9:\n",
    "        return \"A\"\n",
    "    elif score >= 0.8:\n",
    "        return \"B\"\n",
    "    elif score >= 0.7:\n",
    "        return \"C\"\n",
    "    elif score >= 0.6:\n",
    "        return \"D\"\n",
    "    elif score < 0.6:\n",
    "        return \"F\"\n",
    "\n",
    "def main():\n",
    "    \n",
    "    score_input = input(\"Enter score: \")\n",
    "    \n",
    "    try:\n",
    "      \n",
    "        score = float(score_input)\n",
    "        \n",
    "        \n",
    "        if 0.0 <= score <= 1.0:\n",
    "            \n",
    "            grade = get_grade(score)\n",
    "            print(grade)\n",
    "        else:\n",
    "            print(\"Bad score\")\n",
    "    except ValueError:\n",
    "       \n",
    "        print(\"Bad score\")\n",
    "\n",
    "if __name__ == \"__main__\":\n",
    "    main()"
   ]
  },
  {
   "cell_type": "markdown",
   "id": "b956691e-662b-4970-98cd-25876e545112",
   "metadata": {},
   "source": [
    "### Bonus:"
   ]
  },
  {
   "cell_type": "markdown",
   "id": "ff2a2f4e-6cf8-47f4-94f0-a8050459838a",
   "metadata": {},
   "source": [
    "##### Write a program that asks the user for an hour between 1 and 12, asks them to enter am or pm, and asks them how many hours into the future they want to go. Print out what the hour will be that many hours into the future, printing am or pm as appropriate. An example is shown below."
   ]
  },
  {
   "cell_type": "code",
   "execution_count": 6,
   "id": "3605305a-c392-4755-aa08-8278bbbb1d9e",
   "metadata": {},
   "outputs": [
    {
     "name": "stdin",
     "output_type": "stream",
     "text": [
      "Enter the hour (1-12):  8\n",
      "Enter am or pm:  am\n",
      "How many hours into the future?  5\n"
     ]
    },
    {
     "name": "stdout",
     "output_type": "stream",
     "text": [
      "In 5 hours, it will be 1 pm.\n"
     ]
    }
   ],
   "source": [
    "def get_future_time(hour, period, hours_ahead):\n",
    "    # Calculate the new hour\n",
    "    total_hours = hour + hours_ahead\n",
    "    future_hour = total_hours % 12\n",
    " \n",
    "    if future_hour == 0:\n",
    "        future_hour = 12\n",
    "\n",
    "    periods_passed = (hour + hours_ahead) // 12\n",
    " \n",
    "    if periods_passed % 2 == 1:\n",
    "        future_period = \"pm\" if period == \"am\" else \"am\"\n",
    "    else:\n",
    "        future_period = period\n",
    "    \n",
    "    return future_hour, future_period\n",
    "\n",
    "def main():\n",
    "    \n",
    "    try:\n",
    "        hour = int(input(\"Enter the hour (1-12): \"))\n",
    "        if hour < 1 or hour > 12:\n",
    "            print(\"Hour must be between 1 and 12.\")\n",
    "            return\n",
    "        \n",
    "      \n",
    "        period = input(\"Enter am or pm: \").strip().lower()\n",
    "        if period not in (\"am\", \"pm\"):\n",
    "            print(\"Invalid period. Please enter 'am' or 'pm'.\")\n",
    "            return\n",
    "        \n",
    "        \n",
    "        hours_ahead = int(input(\"How many hours into the future? \"))\n",
    "        \n",
    "       \n",
    "        future_hour, future_period = get_future_time(hour, period, hours_ahead)\n",
    "        \n",
    "        \n",
    "        print(f\"In {hours_ahead} hours, it will be {future_hour} {future_period}.\")\n",
    "    \n",
    "    except ValueError:\n",
    "        print(\"Please enter a valid number.\")\n",
    "\n",
    "if __name__ == \"__main__\":\n",
    "    main()"
   ]
  },
  {
   "cell_type": "markdown",
   "id": "bcb088f9-f681-454e-97b1-4976c4b505ed",
   "metadata": {},
   "source": [
    "##### A palindrome is a number or a text phrase that reads the same backwards as forwards. For example, each of the following five-digit integers are palindromes: 12321, 55555, 45554 and 11611. Write a program that reads in a five-digit integer and determines whether or not it is a palindrome. "
   ]
  },
  {
   "cell_type": "code",
   "execution_count": 7,
   "id": "68153ee7-ad08-49a5-8982-1841c0567915",
   "metadata": {},
   "outputs": [
    {
     "name": "stdin",
     "output_type": "stream",
     "text": [
      "Enter the hour (1-12):  1818\n"
     ]
    },
    {
     "name": "stdout",
     "output_type": "stream",
     "text": [
      "Hour must be between 1 and 12.\n"
     ]
    }
   ],
   "source": [
    "def get_future_time(hour, period, hours_ahead):\n",
    "    # Calculate the new hour\n",
    "    total_hours = hour + hours_ahead\n",
    "    future_hour = total_hours % 12\n",
    " \n",
    "    if future_hour == 0:\n",
    "        future_hour = 12\n",
    "\n",
    "    periods_passed = (hour + hours_ahead) // 12\n",
    " \n",
    "    if periods_passed % 2 == 1:\n",
    "        future_period = \"pm\" if period == \"am\" else \"am\"\n",
    "    else:\n",
    "        future_period = period\n",
    "    \n",
    "    return future_hour, future_period\n",
    "\n",
    "def main():\n",
    "    \n",
    "    try:\n",
    "        hour = int(input(\"Enter the hour (1-12): \"))\n",
    "        if hour < 1 or hour > 12:\n",
    "            print(\"Hour must be between 1 and 12.\")\n",
    "            return\n",
    "        \n",
    "      \n",
    "        period = input(\"Enter am or pm: \").strip().lower()\n",
    "        if period not in (\"am\", \"pm\"):\n",
    "            print(\"Invalid period. Please enter 'am' or 'pm'.\")\n",
    "            return\n",
    "        \n",
    "        \n",
    "        hours_ahead = int(input(\"How many hours into the future? \"))\n",
    "        \n",
    "       \n",
    "        future_hour, future_period = get_future_time(hour, period, hours_ahead)\n",
    "        \n",
    "        \n",
    "        print(f\"In {hours_ahead} hours, it will be {future_hour} {future_period}.\")\n",
    "    \n",
    "    except ValueError:\n",
    "        print(\"Please enter a valid number.\")\n",
    "\n",
    "if __name__ == \"__main__\":\n",
    "    main()"
   ]
  },
  {
   "cell_type": "code",
   "execution_count": null,
   "id": "9e000970-c4c2-412c-914c-45a57867fe82",
   "metadata": {},
   "outputs": [],
   "source": []
  }
 ],
 "metadata": {
  "kernelspec": {
   "display_name": "Python 3 (ipykernel)",
   "language": "python",
   "name": "python3"
  },
  "language_info": {
   "codemirror_mode": {
    "name": "ipython",
    "version": 3
   },
   "file_extension": ".py",
   "mimetype": "text/x-python",
   "name": "python",
   "nbconvert_exporter": "python",
   "pygments_lexer": "ipython3",
   "version": "3.11.7"
  }
 },
 "nbformat": 4,
 "nbformat_minor": 5
}
