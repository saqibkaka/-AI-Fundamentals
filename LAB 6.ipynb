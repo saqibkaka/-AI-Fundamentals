{
 "cells": [
  {
   "cell_type": "markdown",
   "id": "abe7d88c-baf5-4b92-984f-72e7d25c8464",
   "metadata": {},
   "source": [
    "## Object Oriented Programming"
   ]
  },
  {
   "cell_type": "markdown",
   "id": "867216c8-effd-492a-9a86-671be4f78a5f",
   "metadata": {},
   "source": [
    "#### 1.\tWrite a Python class called Rectangle that has attributes length and width. Implement methods to calculate the area and perimeter of the rectangle."
   ]
  },
  {
   "cell_type": "code",
   "execution_count": 1,
   "id": "a3ffab20-f0ee-4aa5-aad6-4be541aadac1",
   "metadata": {},
   "outputs": [
    {
     "name": "stdout",
     "output_type": "stream",
     "text": [
      "Area: 15\n",
      "Perimeter: 16\n"
     ]
    }
   ],
   "source": [
    "class Rectangle:\n",
    "    \"\"\"A class representing a rectangle with length and width attributes.\"\"\"\n",
    "\n",
    "    def __init__(self, length, width):\n",
    "        \"\"\"Initializes a Rectangle object with given length and width.\n",
    "\n",
    "        Args:\n",
    "            length: The length of the rectangle.\n",
    "            width: The width of the rectangle.\n",
    "        \"\"\"\n",
    "        self.length = length\n",
    "        self.width = width\n",
    "\n",
    "    def area(self):\n",
    "        \"\"\"Calculates and returns the area of the rectangle.\n",
    "\n",
    "        Returns:\n",
    "            The area of the rectangle.\n",
    "        \"\"\"\n",
    "        return self.length * self.width\n",
    "\n",
    "    def perimeter(self):\n",
    "        \"\"\"Calculates and returns the perimeter of the rectangle.\n",
    "\n",
    "        Returns:\n",
    "            The perimeter of the rectangle.\n",
    "        \"\"\"\n",
    "        return 2 * (self.length + self.width)\n",
    "\n",
    "\n",
    "rect = Rectangle(5, 3)\n",
    "print(\"Area:\", rect.area())\n",
    "print(\"Perimeter:\", rect.perimeter())"
   ]
  },
  {
   "cell_type": "markdown",
   "id": "68a04e8b-0b8c-41b1-ab6b-c6fc93729e96",
   "metadata": {},
   "source": [
    "#### 2.\tCreate a class hierarchy in Python consisting of a base class called Animal, and derived classes Dog, Cat, and Bird. Each derived class should have its unique method. Instantiate objects of each class and demonstrate polymorphism by calling a common method on each object."
   ]
  },
  {
   "cell_type": "code",
   "execution_count": 2,
   "id": "65228fb8-287d-486f-a57d-1956a321ab61",
   "metadata": {},
   "outputs": [
    {
     "name": "stdout",
     "output_type": "stream",
     "text": [
      "Buddy says Woof!\n",
      "Whiskers says Meow!\n",
      "Tweety says Chirp!\n",
      "Buddy is fetching the ball.\n",
      "Whiskers is scratching the furniture.\n",
      "Tweety is flying high in the sky.\n"
     ]
    }
   ],
   "source": [
    "class Animal:\n",
    "    def __init__(self, name):\n",
    "        self.name = name\n",
    "    \n",
    "    def speak(self):\n",
    "        raise NotImplementedError(\"Subclass must implement abstract method\")\n",
    "\n",
    "class Dog(Animal):\n",
    "    def speak(self):\n",
    "        return f\"{self.name} says Woof!\"\n",
    "\n",
    "    def fetch(self):\n",
    "        return f\"{self.name} is fetching the ball.\"\n",
    "\n",
    "class Cat(Animal):\n",
    "    def speak(self):\n",
    "        return f\"{self.name} says Meow!\"\n",
    "\n",
    "    def scratch(self):\n",
    "        return f\"{self.name} is scratching the furniture.\"\n",
    "\n",
    "class Bird(Animal):\n",
    "    def speak(self):\n",
    "        return f\"{self.name} says Chirp!\"\n",
    "\n",
    "    def fly(self):\n",
    "        return f\"{self.name} is flying high in the sky.\"\n",
    "\n",
    "dog = Dog(\"Buddy\")\n",
    "cat = Cat(\"Whiskers\")\n",
    "bird = Bird(\"Tweety\")\n",
    "\n",
    "animals = [dog, cat, bird]\n",
    "\n",
    "for animal in animals:\n",
    "    print(animal.speak())\n",
    "\n",
    "print(dog.fetch())\n",
    "print(cat.scratch())\n",
    "print(bird.fly())"
   ]
  },
  {
   "cell_type": "markdown",
   "id": "7d4e4a3f-622d-4430-9ca8-75372d9422dc",
   "metadata": {},
   "source": [
    "#### 3.\tWrite a Python class called Shape with a method area() that returns the area of the shape. Create two subclasses, Rectangle and Circle, each overriding the area() method to calculate the area of the specific shape. Instantiate objects of each class and display their areas."
   ]
  },
  {
   "cell_type": "code",
   "execution_count": null,
   "id": "daa5a77a-b758-45ed-be60-0f6b3898b686",
   "metadata": {},
   "outputs": [],
   "source": [
    "import math\n",
    "\n",
    "class Shape:\n",
    "    def area(self):\n",
    "        raise NotImplementedError(\"Subclass must implement abstract method\")\n",
    "\n",
    "class Rectangle(Shape):\n",
    "    def __init__(self, width, height):\n",
    "        self.width = width\n",
    "        self.height = height\n",
    "    \n",
    "    def area(self):\n",
    "        return self.width * self.height\n",
    "\n",
    "class Circle(Shape):\n",
    "    def __init__(self, radius):\n",
    "        self.radius = radius\n",
    "    \n",
    "    def area(self):\n",
    "        return math.pi * (self.radius ** 2)\n",
    "\n",
    "rectangle = Rectangle(5, 3)\n",
    "circle = Circle(4)\n",
    "\n",
    "print(f\"The area of the rectangle is: {rectangle.area()}\")\n",
    "print(f\"The area of the circle is: {circle.area()}\")"
   ]
  },
  {
   "cell_type": "markdown",
   "id": "5122ca20-fffb-4a60-ab98-01475d98cf31",
   "metadata": {},
   "source": []
  },
  {
   "cell_type": "code",
   "execution_count": null,
   "id": "b3a02f29-a960-452a-af5f-f49012bef8ee",
   "metadata": {},
   "outputs": [],
   "source": []
  },
  {
   "cell_type": "markdown",
   "id": "94a02e62-2911-473a-8222-6a1130181ade",
   "metadata": {},
   "source": []
  },
  {
   "cell_type": "code",
   "execution_count": null,
   "id": "843e136f-8461-4ae3-bf4e-bd38e2ef7189",
   "metadata": {},
   "outputs": [],
   "source": []
  }
 ],
 "metadata": {
  "kernelspec": {
   "display_name": "Python 3 (ipykernel)",
   "language": "python",
   "name": "python3"
  },
  "language_info": {
   "codemirror_mode": {
    "name": "ipython",
    "version": 3
   },
   "file_extension": ".py",
   "mimetype": "text/x-python",
   "name": "python",
   "nbconvert_exporter": "python",
   "pygments_lexer": "ipython3",
   "version": "3.11.7"
  }
 },
 "nbformat": 4,
 "nbformat_minor": 5
}
